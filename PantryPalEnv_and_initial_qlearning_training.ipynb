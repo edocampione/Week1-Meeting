{
  "nbformat": 4,
  "nbformat_minor": 0,
  "metadata": {
    "colab": {
      "provenance": [],
      "include_colab_link": true
    },
    "kernelspec": {
      "name": "python3",
      "display_name": "Python 3"
    },
    "language_info": {
      "name": "python"
    }
  },
  "cells": [
    {
      "cell_type": "markdown",
      "metadata": {
        "id": "view-in-github",
        "colab_type": "text"
      },
      "source": [
        "<a href=\"https://colab.research.google.com/github/edocampione/Week1-Meeting/blob/main/PantryPalEnv_and_initial_qlearning_training.ipynb\" target=\"_parent\"><img src=\"https://colab.research.google.com/assets/colab-badge.svg\" alt=\"Open In Colab\"/></a>"
      ]
    },
    {
      "cell_type": "code",
      "execution_count": null,
      "metadata": {
        "colab": {
          "base_uri": "https://localhost:8080/"
        },
        "id": "lVonG1N3hQCw",
        "outputId": "48b8301d-ff3f-4a0d-89b1-d6a082ffb2c1"
      },
      "outputs": [
        {
          "output_type": "stream",
          "name": "stdout",
          "text": [
            "9 0 0 0 0\n",
            "0 -1 0 0 0\n",
            "0 0 1 0 0\n",
            "0 0 0 0 0\n",
            "0 0 0 0 2\n"
          ]
        }
      ],
      "source": [
        "import numpy as np\n",
        "import gym\n",
        "from gym import spaces\n",
        "\n",
        "class PantryPalEnv(gym.Env):\n",
        "    \"\"\"\n",
        "    A simplified Gym environment for PantryPal's path planning.\n",
        "    \"\"\"\n",
        "    metadata = {'render.modes': ['console']}\n",
        "\n",
        "    def __init__(self):\n",
        "        super(PantryPalEnv, self).__init__()\n",
        "\n",
        "        # Define the size of the grid (5x5 for simplicity)\n",
        "        self.grid_size = 5\n",
        "        self.obstacle = -1  # Represents an obstacle\n",
        "        self.free_space = 0  # Represents a free space\n",
        "        self.perishable_item = 1  # Represents a perishable item\n",
        "        self.storage_location = 2  # Represents the storage location\n",
        "\n",
        "        # Define action and observation space\n",
        "        self.action_space = spaces.Discrete(4)  # 0: up, 1: down, 2: left, 3: right\n",
        "        self.observation_space = spaces.Box(low=0, high=self.grid_size, shape=(2,), dtype=int)\n",
        "\n",
        "        # Initial position of the robot and the target storage\n",
        "        self.robot_position = [0, 0]\n",
        "        self.storage_position = [self.grid_size - 1, self.grid_size - 1]\n",
        "\n",
        "        # Initialize the grid\n",
        "        self.grid = np.zeros((self.grid_size, self.grid_size))\n",
        "        self.grid[self.storage_position[0], self.storage_position[1]] = self.storage_location\n",
        "\n",
        "        # Place an obstacle and a perishable item in the grid\n",
        "        self.grid[1, 1] = self.obstacle\n",
        "        self.grid[2, 2] = self.perishable_item\n",
        "\n",
        "    def step(self, action):\n",
        "        \"\"\"\n",
        "        Execute one time step within the environment.\n",
        "        \"\"\"\n",
        "        if action == 0 and self.robot_position[0] > 0:  # up\n",
        "            self.robot_position[0] -= 1\n",
        "        elif action == 1 and self.robot_position[0] < self.grid_size - 1:  # down\n",
        "            self.robot_position[0] += 1\n",
        "        elif action == 2 and self.robot_position[1] > 0:  # left\n",
        "            self.robot_position[1] -= 1\n",
        "        elif action == 3 and self.robot_position[1] < self.grid_size - 1:  # right\n",
        "            self.robot_position[1] += 1\n",
        "\n",
        "        reward = -1  # Default reward is -1 for each step\n",
        "\n",
        "        # Check if the robot has reached the storage or encountered an obstacle\n",
        "        current_cell = self.grid[self.robot_position[0], self.robot_position[1]]\n",
        "        if current_cell == self.storage_location:\n",
        "            reward = 10  # Reached the storage\n",
        "        elif current_cell == self.obstacle:\n",
        "            reward = -10  # Hit an obstacle\n",
        "\n",
        "        done = reward == 10  # Episode is done if the storage is reached\n",
        "\n",
        "        info = {}\n",
        "\n",
        "        return self.robot_position, reward, done, info\n",
        "\n",
        "    def reset(self):\n",
        "        \"\"\"\n",
        "        Reset the state of the environment to an initial state.\n",
        "        \"\"\"\n",
        "        self.robot_position = [0, 0]  # Reset robot position\n",
        "        return self.robot_position  # Return initial observation\n",
        "\n",
        "    def render(self, mode='console'):\n",
        "        \"\"\"\n",
        "        Render the environment to the console.\n",
        "        \"\"\"\n",
        "        if mode != 'console':\n",
        "            raise NotImplementedError(\"Only 'console' mode is supported.\")\n",
        "\n",
        "        grid_copy = np.copy(self.grid)\n",
        "        grid_copy[self.robot_position[0], self.robot_position[1]] = 9  # Temporary marker for the robot\n",
        "\n",
        "        for row in grid_copy:\n",
        "            print(\" \".join(str(int(cell)) for cell in row))\n",
        "\n"
      ]
    },
    {
      "cell_type": "code",
      "source": [
        "\n",
        "# Create the environment and test rendering\n",
        "env = PantryPalEnv()\n",
        "env.reset()\n",
        "env.render()"
      ],
      "metadata": {
        "colab": {
          "base_uri": "https://localhost:8080/"
        },
        "id": "xi7ce2wEhrZa",
        "outputId": "6b3fd75d-26e2-45a3-df5d-d4a724c57492"
      },
      "execution_count": null,
      "outputs": [
        {
          "output_type": "stream",
          "name": "stdout",
          "text": [
            "9 0 0 0 0\n",
            "0 -1 0 0 0\n",
            "0 0 1 0 0\n",
            "0 0 0 0 0\n",
            "0 0 0 0 2\n"
          ]
        }
      ]
    },
    {
      "cell_type": "code",
      "source": [
        "env.observation_space.shape"
      ],
      "metadata": {
        "colab": {
          "base_uri": "https://localhost:8080/"
        },
        "id": "eHhspeIEimXN",
        "outputId": "d1fb26bb-cc82-4a28-b9b5-884f9c0e14ec"
      },
      "execution_count": null,
      "outputs": [
        {
          "output_type": "stream",
          "name": "stderr",
          "text": [
            "/usr/local/lib/python3.10/dist-packages/ipykernel/ipkernel.py:283: DeprecationWarning: `should_run_async` will not call `transform_cell` automatically in the future. Please pass the result to `transformed_cell` argument and any exception that happen during thetransform in `preprocessing_exc_tuple` in IPython 7.17 and above.\n",
            "  and should_run_async(code)\n"
          ]
        },
        {
          "output_type": "execute_result",
          "data": {
            "text/plain": [
              "(2,)"
            ]
          },
          "metadata": {},
          "execution_count": 8
        }
      ]
    },
    {
      "cell_type": "code",
      "source": [
        "import numpy as np\n",
        "import random\n",
        "\n",
        "# Assuming PantryPalEnv is your environment class\n",
        "env = PantryPalEnv()\n",
        "\n",
        "# Parameters\n",
        "learning_rate = 0.1\n",
        "discount_factor = 0.99\n",
        "exploration_rate = 1.0\n",
        "max_exploration_rate = 1.0\n",
        "min_exploration_rate = 0.01\n",
        "exploration_decay_rate = 0.001\n",
        "total_episodes = 1000\n",
        "grid_size = 5  # Assuming a grid size of 5x5 for this environment\n",
        "\n",
        "# Adjusted Q-table initialization to match the linearized state space and action space\n",
        "q_table = np.zeros((grid_size * grid_size, env.action_space.n))\n",
        "\n",
        "def get_linear_state_index(state):\n",
        "    \"\"\"Convert a 2D state into a 1D index for the Q-table.\"\"\"\n",
        "    return state[0] * grid_size + state[1]\n",
        "total_rewards = []\n",
        "\n",
        "for episode in range(total_episodes):\n",
        "    state = env.reset()\n",
        "    linear_state_index = get_linear_state_index(state)\n",
        "    done = False\n",
        "    rewards_current_episode = 0\n",
        "\n",
        "    while not done:\n",
        "        # Exploration-exploitation trade-off\n",
        "        exploration_rate_threshold = random.uniform(0, 1)\n",
        "        if exploration_rate_threshold > exploration_rate:\n",
        "            action = np.argmax(q_table[linear_state_index,:])\n",
        "        else:\n",
        "            action = env.action_space.sample()\n",
        "\n",
        "        new_state, reward, done, info = env.step(action)\n",
        "        new_linear_state_index = get_linear_state_index(new_state)\n",
        "\n",
        "        # Update Q-table\n",
        "        q_table[linear_state_index, action] = q_table[linear_state_index, action] * (1 - learning_rate) + \\\n",
        "            learning_rate * (reward + discount_factor * np.max(q_table[new_linear_state_index, :]))\n",
        "\n",
        "        state = new_state\n",
        "        linear_state_index = new_linear_state_index  # Update linear index for the new state\n",
        "        rewards_current_episode += reward\n",
        "    total_rewards.append(rewards_current_episode)\n",
        "    # Exploration rate decay\n",
        "    exploration_rate = min_exploration_rate + \\\n",
        "        (max_exploration_rate - min_exploration_rate) * np.exp(-exploration_decay_rate * episode)\n"
      ],
      "metadata": {
        "colab": {
          "base_uri": "https://localhost:8080/"
        },
        "id": "le2qKATLh1Jt",
        "outputId": "ef3c3146-510a-4e0b-bcdd-de0e93a9d8d9"
      },
      "execution_count": null,
      "outputs": [
        {
          "output_type": "stream",
          "name": "stderr",
          "text": [
            "/usr/local/lib/python3.10/dist-packages/ipykernel/ipkernel.py:283: DeprecationWarning: `should_run_async` will not call `transform_cell` automatically in the future. Please pass the result to `transformed_cell` argument and any exception that happen during thetransform in `preprocessing_exc_tuple` in IPython 7.17 and above.\n",
            "  and should_run_async(code)\n"
          ]
        }
      ]
    },
    {
      "cell_type": "code",
      "source": [
        "import matplotlib.pyplot as plt\n",
        "\n",
        "plt.plot(total_rewards)\n",
        "plt.title(\"Rewards over episodes during training\")\n",
        "plt.xlabel(\"Episodes\")\n",
        "plt.ylabel(\"Rewards\")\n",
        "plt.show()"
      ],
      "metadata": {
        "colab": {
          "base_uri": "https://localhost:8080/",
          "height": 472
        },
        "id": "R-D3mrXpiGxs",
        "outputId": "c219f01e-fc0d-4c21-c56e-cc31c2bab191"
      },
      "execution_count": null,
      "outputs": [
        {
          "output_type": "display_data",
          "data": {
            "text/plain": [
              "<Figure size 640x480 with 1 Axes>"
            ],
            "image/png": "[encoded data removed]"
          },
          "metadata": {}
        }
      ]
    },
    {
      "cell_type": "code",
      "source": [],
      "metadata": {
        "id": "N9zkLv0xkdbu"
      },
      "execution_count": null,
      "outputs": []
    }
  ]
}